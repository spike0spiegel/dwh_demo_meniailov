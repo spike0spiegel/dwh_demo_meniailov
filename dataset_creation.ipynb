{
 "cells": [
  {
   "cell_type": "code",
   "execution_count": 1,
   "id": "75f8fe35-dde2-4815-8cd3-2cb9b04a08e2",
   "metadata": {},
   "outputs": [],
   "source": [
    "import pandas as pd\n",
    "import numpy as np\n",
    "\n",
    "import os\n",
    "\n",
    "import random as rnd\n",
    "\n",
    "from faker import Faker\n",
    "from datetime import date"
   ]
  },
  {
   "cell_type": "code",
   "execution_count": 2,
   "id": "d9b46d00-04de-4b51-b5d0-39540832843c",
   "metadata": {},
   "outputs": [],
   "source": [
    "os.chdir(r\"D:\\Projects\\EpamLabFiles\\dataset\")"
   ]
  },
  {
   "cell_type": "code",
   "execution_count": 3,
   "id": "a4e1ac30-9eb1-4116-abab-81ae0dd0d5b1",
   "metadata": {},
   "outputs": [],
   "source": [
    "sales = pd.read_csv('sales.csv', low_memory = False)"
   ]
  },
  {
   "cell_type": "code",
   "execution_count": 4,
   "id": "6e8f50e8-9447-4f90-80d0-9276524cf17a",
   "metadata": {},
   "outputs": [],
   "source": [
    "sales_work = sales.copy()"
   ]
  },
  {
   "cell_type": "code",
   "execution_count": 5,
   "id": "9b0f1abf-f861-4418-b07a-3612d0bdcdf3",
   "metadata": {},
   "outputs": [],
   "source": [
    "sales_work = sales_work.loc[sales_work['sales'] != 0]"
   ]
  },
  {
   "cell_type": "code",
   "execution_count": 6,
   "id": "7390ef1f-3a58-47f4-8565-dd8847c530a3",
   "metadata": {},
   "outputs": [],
   "source": [
    "sales_work.drop(columns=['stock', 'promo_type_1', 'promo_bin_1', 'promo_type_2', 'promo_bin_2', \\\n",
    "'promo_discount_2', 'promo_discount_type_2'], inplace = True, errors='ignore')\n",
    "sales_work = sales_work.dropna()"
   ]
  },
  {
   "cell_type": "code",
   "execution_count": 7,
   "id": "6c9d0691-136a-4d91-9a65-bc30639ca632",
   "metadata": {},
   "outputs": [],
   "source": [
    "sales_work = sales_work.loc[sales_work['date'] < '2019-01-03']"
   ]
  },
  {
   "cell_type": "code",
   "execution_count": 8,
   "id": "f1a415a5-8b88-4b3b-9b00-69488fdab9b6",
   "metadata": {},
   "outputs": [],
   "source": [
    "sales_work.rename(columns={'sales': 'quantity', 'price': 'regular_price'}, inplace=True)\n",
    "sales_work['cost'] = round(sales_work['regular_price'] * np.random.randint(55, 65, size=len(sales_work)) * 0.01, 2)\n",
    "sales_work['profit'] = sales_work['revenue'] - sales_work['cost'] * sales_work['quantity']"
   ]
  },
  {
   "cell_type": "code",
   "execution_count": 9,
   "id": "893918dd-63d0-45b3-b53f-a659795e5452",
   "metadata": {},
   "outputs": [],
   "source": [
    "sales_work['product_id'] = sales_work['product_id'].str[1:]\n",
    "sales_work['store_id'] = sales_work['store_id'].str[1:]"
   ]
  },
  {
   "cell_type": "code",
   "execution_count": 10,
   "id": "564c9e57-4d01-47ff-897a-dd00342cf45a",
   "metadata": {},
   "outputs": [
    {
     "name": "stderr",
     "output_type": "stream",
     "text": [
      "[nltk_data] Downloading package gutenberg to\n",
      "[nltk_data]     C:\\Users\\broke\\AppData\\Roaming\\nltk_data...\n",
      "[nltk_data]   Package gutenberg is already up-to-date!\n"
     ]
    }
   ],
   "source": [
    "import nltk\n",
    "\n",
    "nltk.download( 'gutenberg')\n",
    "\n",
    "from nltk.corpus import gutenberg\n",
    "import random\n",
    "\n",
    "moby = set(nltk.Text(gutenberg.words('melville-moby_dick.txt')))\n",
    "moby = [word.lower() for word in moby if len(word) > 2]\n",
    "random_word = moby[int(random.random() * len(set(moby)))]"
   ]
  },
  {
   "cell_type": "code",
   "execution_count": 11,
   "id": "c357f197-3513-4e4d-b55a-7f3910a65ec4",
   "metadata": {},
   "outputs": [],
   "source": [
    "unique_product_ids = sales_work['product_id'].unique()\n",
    "id_name_mapping = dict(zip(unique_product_ids, set(moby)))\n",
    "sales_work['product_name'] = sales_work[ 'product_id'].map(id_name_mapping)"
   ]
  },
  {
   "cell_type": "code",
   "execution_count": 12,
   "id": "9468f479-bba7-43ba-afb8-2cf6c3215c21",
   "metadata": {},
   "outputs": [],
   "source": [
    "sales_work['product_id'] = sales_work['product_id'].astype('int32')\n",
    "sales_work['category_id'] = pd.cut(sales_work['product_id'], bins=32, labels=range(1, 33))"
   ]
  },
  {
   "cell_type": "code",
   "execution_count": 13,
   "id": "c6cff320-8960-4c4c-af97-32e81b5f09bd",
   "metadata": {},
   "outputs": [],
   "source": [
    "random_category_name = [moby[int(rnd.randrange(1, len(set(moby))))] for _ in range(sales_work['category_id'].nunique())]\n",
    "unique_category_ids = sales_work['category_id'].unique()\n",
    "id_category_name_mapping = dict(zip(unique_category_ids, random_category_name))\n",
    "sales_work['category_name'] = sales_work['category_id'].map(id_category_name_mapping)"
   ]
  },
  {
   "cell_type": "code",
   "execution_count": 14,
   "id": "26d0d22d-6511-44c2-a0c4-3b66b25a6d67",
   "metadata": {},
   "outputs": [],
   "source": [
    "sales_work['promotion_id'] = np.random.randint(1, 1501, size=len(sales_work))\n",
    "unique_promotion_ids = sales_work['promotion_id'].unique()\n",
    "id_promotion_name_mapping = dict(zip(range(1, 1501), set(moby)))\n",
    "sales_work['promotion_name'] = sales_work['promotion_id'].map(id_promotion_name_mapping)"
   ]
  },
  {
   "cell_type": "code",
   "execution_count": 15,
   "id": "331eff4a-229f-4048-ad51-fa211e59889a",
   "metadata": {},
   "outputs": [],
   "source": [
    "random_store_name = [moby[int(rnd.randrange(1, len(set(moby))))] for _ in range(sales_work['store_id'].nunique())]\n",
    "unique_store_ids = sales_work['store_id'].unique()\n",
    "id_store_name_mapping = dict(zip(unique_store_ids, random_store_name))\n",
    "sales_work['store_name'] = sales_work['store_id'].map(id_store_name_mapping)"
   ]
  },
  {
   "cell_type": "code",
   "execution_count": 16,
   "id": "3016e71c-c2e4-4553-921b-3d27f402a02d",
   "metadata": {},
   "outputs": [],
   "source": [
    "sales_work[ 'store_address_id'] = sales_work[ 'store_id'].rank(method = 'dense').astype(int)\n",
    "random_store_address = [moby[int(rnd.randrange(1, len(set(moby))))] + 'street' + str(rnd.randrange(1, 1000))]\n",
    "unique_store_ids = sales_work['store_address_id'].unique()\n",
    "id_store_address_mapping = dict(zip(unique_store_ids, random_store_address))\n",
    "sales_work['store_address'] = sales_work[ 'store_address_id'].map(id_store_address_mapping)\n",
    "sales_work['store_id'] = sales_work['store_id'].astype('int32')\n",
    "sales_work['store_city_id'] = pd.cut(sales_work['store_id'], bins=20, labels=range(1, 21))\n",
    "uk_cities = [\"London\", \"Birmingham\", \"Manchester\", \"Glasgow\", \"Leeds\", \"Edinburgh\", \\\n",
    "\"Liverpool\", \"Newcastle upon Tyne\", \"Sheffield\", \"Bristol\", \"Nottingham\", \\\n",
    "\"Southampton\", \"Leicester\", \"Coventry\", \"Bradford\", \"Belfast\", \"Stoke-on-Trent\", \\\n",
    "\"Wolverhampton\", \"Plymouth\", \"Derby\"]\n",
    "sales_work['store_city'] = pd.cut(sales_work['store_id'], bins=20, labels=uk_cities)"
   ]
  },
  {
   "cell_type": "code",
   "execution_count": 17,
   "id": "626df627-f8ed-4419-a783-bcfbb570109a",
   "metadata": {},
   "outputs": [],
   "source": [
    "sales_work['employee_id'] = pd.cut(sales_work['store_id'], bins=200, labels=range(1, 201))\n",
    "\n",
    "faker = Faker()\n",
    "names = []\n",
    "surnames = []\n",
    "genders = []\n",
    "births = []\n",
    "emails = []\n",
    "address_ids = []\n",
    "addresses = []\n",
    "for _ in range(200):\n",
    "    employee = faker.profile()\n",
    "    names.append(' '.join(employee['name'].split()[:-1]))\n",
    "    surnames.append(employee['name'].split()[-1])\n",
    "    genders.append (employee['sex'])\n",
    "    births.append(employee['birthdate'])\n",
    "    emails.append(employee['mail'])\n",
    "    address_ids.append(rnd.randint(1, 100000))\n",
    "    addresses.append(employee['address'].split('\\n')[0])\n",
    "\n",
    "\n",
    "sales_work['employee_firstname'] = sales_work['employee_id'].map(dict(zip(range(1, 201), names)))\n",
    "sales_work['employee_surname'] = sales_work['employee_id'].map(dict(zip(range(1, 201), surnames)))\n",
    "sales_work['employee_gender'] = sales_work['employee_id'].map(dict(zip(range(1, 201), genders)))\n",
    "sales_work['employee_birth'] = sales_work['employee_id'].map(dict(zip(range(1, 201), births)))\n",
    "sales_work['employee_email'] = sales_work['employee_id'].map(dict(zip(range(1, 201), emails)))\n",
    "sales_work['employee_address_id'] = sales_work['employee_id'].map(dict(zip(range(1, 201), address_ids)))\n",
    "sales_work['employee_address'] = sales_work['employee_address_id'].map(dict(zip(address_ids, addresses)))\n",
    "sales_work['employee_city_id'] = sales_work['store_city_id']\n",
    "sales_work['employee_city'] = sales_work['store_city']              "
   ]
  },
  {
   "cell_type": "code",
   "execution_count": 18,
   "id": "01bd24ef-b515-4ebe-a301-c070692f9ce2",
   "metadata": {},
   "outputs": [],
   "source": [
    "sales_work['customer_id'] = np.random.randint(1, 5001, size = len(sales_work))\n",
    "\n",
    "names = []\n",
    "surnames = []\n",
    "genders = []\n",
    "births = []\n",
    "emails = []\n",
    "address_ids = []\n",
    "addresses = []\n",
    "\n",
    "\n",
    "for i in range(5000):\n",
    "    customer = faker.profile()\n",
    "    names.append(' '.join(customer['name'].split()[:-1]))\n",
    "    surnames.append(customer['name'].split()[-1])\n",
    "    genders.append(customer['sex'])\n",
    "    births.append(customer['birthdate'])\n",
    "    emails.append(str(random.randint(1, 1000)) + customer['mail'])\n",
    "    address_ids.append(i)\n",
    "    addresses.append(customer['address'].split('\\n')[0])"
   ]
  },
  {
   "cell_type": "code",
   "execution_count": 19,
   "id": "395aaa12-091c-4730-b8a1-71ab2b75804b",
   "metadata": {},
   "outputs": [],
   "source": [
    "sales_work['customer_firstname'] = sales_work['customer_id'].map(dict(zip(range(1, 5001), names)))\n",
    "sales_work['customer_surname'] = sales_work['customer_id'].map(dict(zip(range(1, 5001), surnames)))\n",
    "sales_work['customer_gender'] = sales_work['customer_id'].map(dict(zip(range(1, 5001), genders)))\n",
    "sales_work['customer_birth'] = sales_work['customer_id'].map(dict(zip(range(1, 5001), births)))\n",
    "sales_work['customer_email'] = sales_work['customer_id'].map(dict(zip(range(1, 5001), emails)))\n",
    "sales_work['customer_address_id'] = sales_work['customer_id'].map(dict(zip(range(1, 5001), address_ids)))\n",
    "sales_work['customer_address'] = sales_work['customer_address_id'].map(dict(zip(range(1, 5001), addresses)))\n",
    "sales_work['customer_city_id'] = pd.cut(sales_work['customer_id'], bins=20, labels = range(1, len(uk_cities) + 1), ordered = False)"
   ]
  },
  {
   "cell_type": "code",
   "execution_count": 20,
   "id": "0be19a76-badc-4c85-b66b-8082a1f235dd",
   "metadata": {},
   "outputs": [],
   "source": [
    "id_city_name_mapping = dict(zip(sales_work['employee_city_id'], sales_work['employee_city']))\n",
    "sales_work['customer_city'] = sales_work['customer_city_id'].map(id_city_name_mapping)"
   ]
  },
  {
   "cell_type": "code",
   "execution_count": 21,
   "id": "9f9b49ce-8c41-495a-96c7-919f41f3adf4",
   "metadata": {},
   "outputs": [],
   "source": [
    "sales_work['payment_method_id'] = np.random.randint(1, 5, size=len(sales_work))\n",
    "payments = ['Visa', 'Mastercard', 'UnionPay', 'Cash']\n",
    "sales_work['payment_method'] = pd.cut(sales_work['payment_method_id'], bins=4, labels = payments, ordered = False)"
   ]
  },
  {
   "cell_type": "code",
   "execution_count": 22,
   "id": "397428fd-a021-48db-a9a2-d987a9d26145",
   "metadata": {},
   "outputs": [],
   "source": [
    "def generate_transaction_id(row):\n",
    "    transaction_id = f\"{row['customer_id']}{row['employee_id']}{row['store_id']}{row['date']}\"\n",
    "    return transaction_id"
   ]
  },
  {
   "cell_type": "code",
   "execution_count": 23,
   "id": "6b52d227-0ed0-435a-abf4-89582d628053",
   "metadata": {},
   "outputs": [],
   "source": [
    "sales_work['transaction_id'] = sales_work.apply(generate_transaction_id, axis=1)"
   ]
  },
  {
   "cell_type": "code",
   "execution_count": 24,
   "id": "b6d53650-6c33-4f7a-b444-974dbb010379",
   "metadata": {},
   "outputs": [],
   "source": [
    "first_dataset = sales_work[sales_work['payment_method'] == 'Cash']\n",
    "second_dataset = sales_work[sales_work['payment_method'] != 'Cash']"
   ]
  },
  {
   "cell_type": "code",
   "execution_count": 25,
   "id": "35c157c0-8938-44b3-8320-0c22b384580e",
   "metadata": {},
   "outputs": [],
   "source": [
    "first_dataset_work = first_dataset.copy()\n",
    "first_dataset_work.drop(columns=['employee_gender', 'employee_email', 'employee_address_id', 'employee_address'], \\\n",
    "inplace = True, errors='ignore')\n",
    "\n",
    "second_dataset_work = second_dataset.copy()\n",
    "second_dataset_work.drop(columns=['employee_firstname', 'store_address', 'store_city_id'], inplace = True, errors=\"ignore\")"
   ]
  },
  {
   "cell_type": "code",
   "execution_count": 26,
   "id": "c7c7018c-734a-4337-85bb-dc108beee2e4",
   "metadata": {},
   "outputs": [],
   "source": [
    "first_dataset_work.rename(columns={'date': 'day', 'profit': 'amount', 'category name': 'category', \\\n",
    "'promotion_name': 'promotion', 'store_name': 'store', \\\n",
    "'employee_surname': 'employee_secondname', 'payment_method': 'payment'}, inplace=True)"
   ]
  },
  {
   "cell_type": "code",
   "execution_count": 27,
   "id": "17f96b2f-0f9a-47a4-b458-d1f4bf98260d",
   "metadata": {},
   "outputs": [],
   "source": [
    "first_dataset_work.to_csv('first_dataset.csv')\n",
    "second_dataset_work.to_csv('second_dataset.csv')"
   ]
  }
 ],
 "metadata": {
  "kernelspec": {
   "display_name": "Python 3 (ipykernel)",
   "language": "python",
   "name": "python3"
  },
  "language_info": {
   "codemirror_mode": {
    "name": "ipython",
    "version": 3
   },
   "file_extension": ".py",
   "mimetype": "text/x-python",
   "name": "python",
   "nbconvert_exporter": "python",
   "pygments_lexer": "ipython3",
   "version": "3.11.4"
  }
 },
 "nbformat": 4,
 "nbformat_minor": 5
}
